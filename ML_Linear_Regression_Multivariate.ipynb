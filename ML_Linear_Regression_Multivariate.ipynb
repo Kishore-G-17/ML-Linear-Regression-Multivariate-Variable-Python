{
    "cells": [
        {
            "cell_type": "code",
            "execution_count": 8,
            "source": [
                "import pandas as pd\r\n",
                "import matplotlib.pyplot as plt\r\n",
                "from sklearn import linear_model"
            ],
            "outputs": [],
            "metadata": {}
        },
        {
            "cell_type": "code",
            "execution_count": 7,
            "source": [
                "df1 = pd.read_csv('train_unprocessed_data.csv')\r\n",
                "df1"
            ],
            "outputs": [
                {
                    "output_type": "execute_result",
                    "data": {
                        "text/plain": [
                            "   Area  Bedrooms  Age   Price\n",
                            "0  2600       3.0   20  550000\n",
                            "1  3000       4.0   15  565000\n",
                            "2  3200       NaN   18  610000\n",
                            "3  3600       3.0   30  595000\n",
                            "4  4000       5.0    8  760000"
                        ],
                        "text/html": [
                            "<div>\n",
                            "<style scoped>\n",
                            "    .dataframe tbody tr th:only-of-type {\n",
                            "        vertical-align: middle;\n",
                            "    }\n",
                            "\n",
                            "    .dataframe tbody tr th {\n",
                            "        vertical-align: top;\n",
                            "    }\n",
                            "\n",
                            "    .dataframe thead th {\n",
                            "        text-align: right;\n",
                            "    }\n",
                            "</style>\n",
                            "<table border=\"1\" class=\"dataframe\">\n",
                            "  <thead>\n",
                            "    <tr style=\"text-align: right;\">\n",
                            "      <th></th>\n",
                            "      <th>Area</th>\n",
                            "      <th>Bedrooms</th>\n",
                            "      <th>Age</th>\n",
                            "      <th>Price</th>\n",
                            "    </tr>\n",
                            "  </thead>\n",
                            "  <tbody>\n",
                            "    <tr>\n",
                            "      <th>0</th>\n",
                            "      <td>2600</td>\n",
                            "      <td>3.0</td>\n",
                            "      <td>20</td>\n",
                            "      <td>550000</td>\n",
                            "    </tr>\n",
                            "    <tr>\n",
                            "      <th>1</th>\n",
                            "      <td>3000</td>\n",
                            "      <td>4.0</td>\n",
                            "      <td>15</td>\n",
                            "      <td>565000</td>\n",
                            "    </tr>\n",
                            "    <tr>\n",
                            "      <th>2</th>\n",
                            "      <td>3200</td>\n",
                            "      <td>NaN</td>\n",
                            "      <td>18</td>\n",
                            "      <td>610000</td>\n",
                            "    </tr>\n",
                            "    <tr>\n",
                            "      <th>3</th>\n",
                            "      <td>3600</td>\n",
                            "      <td>3.0</td>\n",
                            "      <td>30</td>\n",
                            "      <td>595000</td>\n",
                            "    </tr>\n",
                            "    <tr>\n",
                            "      <th>4</th>\n",
                            "      <td>4000</td>\n",
                            "      <td>5.0</td>\n",
                            "      <td>8</td>\n",
                            "      <td>760000</td>\n",
                            "    </tr>\n",
                            "  </tbody>\n",
                            "</table>\n",
                            "</div>"
                        ]
                    },
                    "metadata": {},
                    "execution_count": 7
                }
            ],
            "metadata": {}
        },
        {
            "cell_type": "code",
            "execution_count": 3,
            "source": [
                "#Before going to build the model for the above data set we need to pre-process it and fill the null\r\n",
                "#Here I am gonna fill the missing value with the median of bedrooms.\r\n",
                "median_bedrooms =  df1.Bedrooms.median()\r\n",
                "median_bedrooms"
            ],
            "outputs": [
                {
                    "output_type": "execute_result",
                    "data": {
                        "text/plain": [
                            "3.5"
                        ]
                    },
                    "metadata": {},
                    "execution_count": 3
                }
            ],
            "metadata": {}
        },
        {
            "cell_type": "code",
            "execution_count": 4,
            "source": [
                "#Inorder to convert the float value into integer\r\n",
                "import math\r\n",
                "median_bedrooms = math.floor(median_bedrooms)\r\n",
                "median_bedrooms"
            ],
            "outputs": [
                {
                    "output_type": "execute_result",
                    "data": {
                        "text/plain": [
                            "3"
                        ]
                    },
                    "metadata": {},
                    "execution_count": 4
                }
            ],
            "metadata": {}
        },
        {
            "cell_type": "code",
            "execution_count": 12,
            "source": [
                "#Now update the medium value into the data frame df1\r\n",
                "df1.Bedrooms = df1.Bedrooms.fillna(median_bedrooms)\r\n",
                "df1"
            ],
            "outputs": [
                {
                    "output_type": "execute_result",
                    "data": {
                        "text/plain": [
                            "   Area  Bedrooms  Age   Price\n",
                            "0  2600       3.0   20  550000\n",
                            "1  3000       4.0   15  565000\n",
                            "2  3200       3.0   18  610000\n",
                            "3  3600       3.0   30  595000\n",
                            "4  4000       5.0    8  760000"
                        ],
                        "text/html": [
                            "<div>\n",
                            "<style scoped>\n",
                            "    .dataframe tbody tr th:only-of-type {\n",
                            "        vertical-align: middle;\n",
                            "    }\n",
                            "\n",
                            "    .dataframe tbody tr th {\n",
                            "        vertical-align: top;\n",
                            "    }\n",
                            "\n",
                            "    .dataframe thead th {\n",
                            "        text-align: right;\n",
                            "    }\n",
                            "</style>\n",
                            "<table border=\"1\" class=\"dataframe\">\n",
                            "  <thead>\n",
                            "    <tr style=\"text-align: right;\">\n",
                            "      <th></th>\n",
                            "      <th>Area</th>\n",
                            "      <th>Bedrooms</th>\n",
                            "      <th>Age</th>\n",
                            "      <th>Price</th>\n",
                            "    </tr>\n",
                            "  </thead>\n",
                            "  <tbody>\n",
                            "    <tr>\n",
                            "      <th>0</th>\n",
                            "      <td>2600</td>\n",
                            "      <td>3.0</td>\n",
                            "      <td>20</td>\n",
                            "      <td>550000</td>\n",
                            "    </tr>\n",
                            "    <tr>\n",
                            "      <th>1</th>\n",
                            "      <td>3000</td>\n",
                            "      <td>4.0</td>\n",
                            "      <td>15</td>\n",
                            "      <td>565000</td>\n",
                            "    </tr>\n",
                            "    <tr>\n",
                            "      <th>2</th>\n",
                            "      <td>3200</td>\n",
                            "      <td>3.0</td>\n",
                            "      <td>18</td>\n",
                            "      <td>610000</td>\n",
                            "    </tr>\n",
                            "    <tr>\n",
                            "      <th>3</th>\n",
                            "      <td>3600</td>\n",
                            "      <td>3.0</td>\n",
                            "      <td>30</td>\n",
                            "      <td>595000</td>\n",
                            "    </tr>\n",
                            "    <tr>\n",
                            "      <th>4</th>\n",
                            "      <td>4000</td>\n",
                            "      <td>5.0</td>\n",
                            "      <td>8</td>\n",
                            "      <td>760000</td>\n",
                            "    </tr>\n",
                            "  </tbody>\n",
                            "</table>\n",
                            "</div>"
                        ]
                    },
                    "metadata": {},
                    "execution_count": 12
                }
            ],
            "metadata": {}
        },
        {
            "cell_type": "code",
            "execution_count": 6,
            "source": [
                "#Create the .csv file with the updated values\r\n",
                "df1.to_csv('train_processed_data.csv')"
            ],
            "outputs": [],
            "metadata": {}
        },
        {
            "cell_type": "code",
            "execution_count": 14,
            "source": [
                "#Create linear model object\r\n",
                "lm = linear_model.LinearRegression()\r\n",
                "lm.fit(df1[['Area','Bedrooms','Age']], df1.Price)"
            ],
            "outputs": [
                {
                    "output_type": "execute_result",
                    "data": {
                        "text/plain": [
                            "LinearRegression()"
                        ]
                    },
                    "metadata": {},
                    "execution_count": 14
                }
            ],
            "metadata": {}
        },
        {
            "cell_type": "code",
            "execution_count": 15,
            "source": [
                "lm.coef_"
            ],
            "outputs": [
                {
                    "output_type": "execute_result",
                    "data": {
                        "text/plain": [
                            "array([   137.25, -26025.  ,  -6825.  ])"
                        ]
                    },
                    "metadata": {},
                    "execution_count": 15
                }
            ],
            "metadata": {}
        },
        {
            "cell_type": "code",
            "execution_count": 16,
            "source": [
                "lm.intercept_"
            ],
            "outputs": [
                {
                    "output_type": "execute_result",
                    "data": {
                        "text/plain": [
                            "383725.00000000006"
                        ]
                    },
                    "metadata": {},
                    "execution_count": 16
                }
            ],
            "metadata": {}
        },
        {
            "cell_type": "code",
            "execution_count": 21,
            "source": [
                "#Test the model by giving some input values to predict the output\r\n",
                "lm.predict([[3000,3.0,40]])"
            ],
            "outputs": [
                {
                    "output_type": "execute_result",
                    "data": {
                        "text/plain": [
                            "array([444400.])"
                        ]
                    },
                    "metadata": {},
                    "execution_count": 21
                }
            ],
            "metadata": {}
        },
        {
            "cell_type": "code",
            "execution_count": null,
            "source": [],
            "outputs": [],
            "metadata": {}
        }
    ],
    "metadata": {
        "orig_nbformat": 4,
        "language_info": {
            "name": "python",
            "version": "3.8.2",
            "mimetype": "text/x-python",
            "codemirror_mode": {
                "name": "ipython",
                "version": 3
            },
            "pygments_lexer": "ipython3",
            "nbconvert_exporter": "python",
            "file_extension": ".py"
        },
        "kernelspec": {
            "name": "python3",
            "display_name": "Python 3.8.2 64-bit"
        },
        "interpreter": {
            "hash": "04dab57e78248bc5235021efaca3862c9054ea03675166f084d8c1a7ef1d3271"
        }
    },
    "nbformat": 4,
    "nbformat_minor": 2
}